{
 "cells": [
  {
   "cell_type": "markdown",
   "id": "a51d1bd2-0369-4c0a-8f4f-0660228af1fd",
   "metadata": {},
   "source": [
    "\n",
    "<center><img src=\"images/gmit_image.jpg\" width=\"275\" height=\"275\"/></center>\n",
    "<h2 align=\"center\"><em><strong>&nbsp&nbsp&nbsp&nbsp Modelling Real World Data </h2></em></strong><br/>\n",
    "<h2 align=\"center\"><em><strong>&nbsp&nbsp&nbsp&nbsp&nbspHigher Diploma in Data Analytics  </h2></em></strong><br/>\n",
    "\n",
    "\n"
   ]
  },
  {
   "cell_type": "markdown",
   "id": "efa3e894-3308-49d3-a8bd-6b8a9cd7b86d",
   "metadata": {},
   "source": [
    "\n",
    "<br>\n",
    "<br>\n",
    "\n",
    "# Objectives\n",
    "***"
   ]
  },
  {
   "cell_type": "markdown",
   "id": "ef513ea8-9d0e-4422-921f-d0f102c83322",
   "metadata": {},
   "source": [
    "1. Choose a real-world phenomenon that can be measured.\n",
    "2. Investigate the types of variables involved, their likely distributions, and their\n",
    "relationships with each other, accross at least 4 variables.\n",
    "3. Synthesise/simulate a data set as closely matching their properties as possible."
   ]
  },
  {
   "cell_type": "code",
   "execution_count": null,
   "id": "77e2ea1c-fd18-4f2d-bd09-d056d35f820d",
   "metadata": {},
   "outputs": [],
   "source": []
  },
  {
   "cell_type": "code",
   "execution_count": null,
   "id": "f1ed769f-3b52-4ae6-9e46-11b2e2963df0",
   "metadata": {},
   "outputs": [],
   "source": []
  },
  {
   "cell_type": "markdown",
   "id": "d903a639-d963-4e6b-82d6-f2259dd6f6ad",
   "metadata": {},
   "source": [
    "## Real World Phenomenon\n",
    "***"
   ]
  },
  {
   "cell_type": "markdown",
   "id": "a67bdb85-b70d-4c3b-9802-ee82871720f1",
   "metadata": {},
   "source": [
    "### Hypertension\n",
    "This project will explore *hypertension*, which is more commonly known as high blood pressure. This real world problem can result in stroke, heart<br>\n",
    "disease and heart attacks. Blood pressure is measured using systolic blood pressure which measures the pressure in ones arteries when their heart<br>\n",
    "beats, and diastolic blood pressure which measures the pressure in ones artetries between heart beats [1]. The Centers for Disease Control and<br>\n",
    "Prevention defines hypertension as a systolic reading of ≥ 130 mmHg and/or a diastolic reading of ≥ 80 mmHg."
   ]
  },
  {
   "cell_type": "code",
   "execution_count": null,
   "id": "68baf016-b47f-420f-b10a-a52efed0d3f1",
   "metadata": {},
   "outputs": [],
   "source": []
  },
  {
   "cell_type": "code",
   "execution_count": null,
   "id": "fab1bb90-164a-487c-a970-abbcb087c910",
   "metadata": {},
   "outputs": [],
   "source": []
  },
  {
   "cell_type": "markdown",
   "id": "531e368c-2532-4854-a941-0c6c5e1cf0ae",
   "metadata": {},
   "source": [
    "## Investigating the Variables\n",
    "***"
   ]
  },
  {
   "cell_type": "code",
   "execution_count": null,
   "id": "68dc4756-847f-4327-ba72-953076fc2fb4",
   "metadata": {},
   "outputs": [],
   "source": []
  },
  {
   "cell_type": "code",
   "execution_count": null,
   "id": "0137f57e-06a4-44b6-a604-6664d528890d",
   "metadata": {},
   "outputs": [],
   "source": []
  },
  {
   "cell_type": "code",
   "execution_count": null,
   "id": "57ff8279-f0d3-4a80-b89f-bef0711484b7",
   "metadata": {},
   "outputs": [],
   "source": []
  },
  {
   "cell_type": "markdown",
   "id": "cdaa2c88-7fa3-4d09-a672-84fa4509089b",
   "metadata": {},
   "source": [
    "## Modelling Dataset\n",
    "***"
   ]
  },
  {
   "cell_type": "code",
   "execution_count": null,
   "id": "f0b205e0-7cfe-48ef-96a1-44fc855938ee",
   "metadata": {},
   "outputs": [],
   "source": []
  },
  {
   "cell_type": "code",
   "execution_count": null,
   "id": "33edcacd-96a3-47ab-9a6e-6677eb11bbac",
   "metadata": {},
   "outputs": [],
   "source": []
  },
  {
   "cell_type": "code",
   "execution_count": null,
   "id": "e5b08164-1871-4a8f-ac43-1ef0bdbc5b63",
   "metadata": {},
   "outputs": [],
   "source": []
  },
  {
   "cell_type": "markdown",
   "id": "f846fdee-0803-41af-8910-8c6454e85ba0",
   "metadata": {},
   "source": [
    "## References\n",
    "***"
   ]
  },
  {
   "cell_type": "code",
   "execution_count": null,
   "id": "4f15cdf2-e84a-46c8-8b7c-8f5d9e6c6285",
   "metadata": {},
   "outputs": [],
   "source": []
  },
  {
   "cell_type": "code",
   "execution_count": null,
   "id": "dbd6259c-7194-48d3-ae8e-407d02babe4c",
   "metadata": {},
   "outputs": [],
   "source": []
  },
  {
   "cell_type": "code",
   "execution_count": null,
   "id": "f82f4d3c-e904-4d1f-9e0c-1ac4434d8023",
   "metadata": {},
   "outputs": [],
   "source": []
  }
 ],
 "metadata": {
  "kernelspec": {
   "display_name": "Python 3",
   "language": "python",
   "name": "python3"
  },
  "language_info": {
   "codemirror_mode": {
    "name": "ipython",
    "version": 3
   },
   "file_extension": ".py",
   "mimetype": "text/x-python",
   "name": "python",
   "nbconvert_exporter": "python",
   "pygments_lexer": "ipython3",
   "version": "3.8.8"
  }
 },
 "nbformat": 4,
 "nbformat_minor": 5
}
