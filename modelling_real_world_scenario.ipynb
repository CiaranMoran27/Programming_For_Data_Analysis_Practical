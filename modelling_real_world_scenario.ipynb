{
 "cells": [
  {
   "cell_type": "markdown",
   "id": "a51d1bd2-0369-4c0a-8f4f-0660228af1fd",
   "metadata": {},
   "source": [
    "\n",
    "<center><img src=\"images/gmit_image.jpg\" width=\"275\" height=\"275\"/></center>\n",
    "<h2 align=\"center\"><em><strong>&nbsp&nbsp&nbsp&nbsp Modelling Real World Data </h2></em></strong><br/>\n",
    "<h2 align=\"center\"><em><strong>&nbsp&nbsp&nbsp&nbsp&nbspHigher Diploma in Data Analytics  </h2></em></strong><br/>\n",
    "\n",
    "\n"
   ]
  },
  {
   "cell_type": "markdown",
   "id": "efa3e894-3308-49d3-a8bd-6b8a9cd7b86d",
   "metadata": {},
   "source": [
    "\n",
    "<br>\n",
    "<br>\n",
    "\n",
    "# Objectives\n",
    "***"
   ]
  },
  {
   "cell_type": "markdown",
   "id": "ef513ea8-9d0e-4422-921f-d0f102c83322",
   "metadata": {},
   "source": [
    "1. Choose a real-world phenomenon that can be measured.\n",
    "2. Investigate the types of variables involved, their likely distributions, and their\n",
    "relationships with each other, accross at least 4 variables.\n",
    "3. Synthesise/simulate a data set as closely matching their properties as possible."
   ]
  },
  {
   "cell_type": "code",
   "execution_count": null,
   "id": "77e2ea1c-fd18-4f2d-bd09-d056d35f820d",
   "metadata": {},
   "outputs": [],
   "source": []
  },
  {
   "cell_type": "code",
   "execution_count": null,
   "id": "f1ed769f-3b52-4ae6-9e46-11b2e2963df0",
   "metadata": {},
   "outputs": [],
   "source": []
  },
  {
   "cell_type": "markdown",
   "id": "d903a639-d963-4e6b-82d6-f2259dd6f6ad",
   "metadata": {},
   "source": [
    "## Real World Phenomenon\n",
    "***"
   ]
  },
  {
   "cell_type": "markdown",
   "id": "a67bdb85-b70d-4c3b-9802-ee82871720f1",
   "metadata": {},
   "source": [
    "### Hypertension\n",
    "This project will explore *hypertension*, which is more commonly known as high blood pressure. This real world problem can result in stroke, heart<br>\n",
    "disease and heart attacks. Blood pressure is measured using systolic blood pressure which measures the pressure in ones arteries when their heart<br>\n",
    "beats, and diastolic blood pressure which measures the pressure in ones artetries between heart beats [1]. The Centers for Disease Control and<br>\n",
    "Prevention defines hypertension as a systolic reading of ≥ 130 mmHg and/or a diastolic reading of ≥ 80 mmHg."
   ]
  },
  {
   "cell_type": "code",
   "execution_count": null,
   "id": "68baf016-b47f-420f-b10a-a52efed0d3f1",
   "metadata": {},
   "outputs": [],
   "source": []
  },
  {
   "cell_type": "code",
   "execution_count": null,
   "id": "fab1bb90-164a-487c-a970-abbcb087c910",
   "metadata": {},
   "outputs": [],
   "source": []
  },
  {
   "cell_type": "markdown",
   "id": "ce303309-d8a6-4f76-b1cb-96057d9798a1",
   "metadata": {},
   "source": [
    "<br>\n",
    "\n",
    "## Investigating the Variables\n",
    "***\n",
    "### Selection:\n",
    "It is important to investigate relevant features when modeling ones data. For example in Machine Learning feature selection methods are used to<br>\n",
    "reduce the number of input variables to useful ones that can make better predictions (Brownlee 2020). With this in mind some of the feature variables<br> \n",
    "that help predict hypertension will now be investigated before deciding what variables will be used  to model the real world phenomenon of hypertension.\n",
    "\n",
    "Justin et al.(2013) detail how 467 abstracts related to hypertension were closely examined and how 11 articles of 467 were indentified that explored<br>\n",
    "linear regression prediction models with incident hypertension as their outcome of interest. The results of these article showed that the following<br>\n",
    "variables showed success in prediciting hypertension over a diverse age range: age, sex, body mass index, diabetes status, parental hypertension<br>\n",
    "smoking and systolic/diastolic blood pressure. \n",
    "\n",
    "Further research identified a large scale study that was carried out by Ren et al (2020) on 68980 Chinese participants over a dynamic age range.<br>\n",
    "Within the study sample circa 50% of the people had hypertension and risk factor were identified via random forest and linear regression models.<br>\n",
    "The main risk factors identified were gender, age, height, weight, BMI, triglyceride levels and total cholesterol. <br>"
   ]
  },
  {
   "cell_type": "markdown",
   "id": "7d342fc4-89b0-470a-b676-215385845a41",
   "metadata": {},
   "source": [
    "It was interesting that BMI was positively prediciting blood pressure as it doesnt account for body fat percentage. Zeng at al. (2012) explored this in more<br>\n",
    "detail on a sample size of 3559 subjects from 18 to 85 years old. The study used Pearsons Correlation analysis to model BMI, percent body fat and blood<br>\n",
    "pressure before correcting for gender, age, lifestyle, and family history correlation via regression analysis. The results showed that BMI had a lower partial<br>\n",
    "correlation with blood pressure than fat percenrage had with with blood pressure. Based on these findings percentage body fat will be included with the<br>\n",
    "variables listed in table 1 to model hypertension."
   ]
  },
  {
   "cell_type": "markdown",
   "id": "3ffdd28c-6f3b-4f1b-acd9-29a12936317f",
   "metadata": {},
   "source": [
    "\n",
    "<table style = 'float : left;'>\n",
    "    <thead>\n",
    "        <th></th>\n",
    "        <th>Table1 (Variable Summary)</th>\n",
    "        <th></th>\n",
    "      </tr>\n",
    "      <tr>\n",
    "        <th>Variable Type</th>\n",
    "        <th>Variable</th>\n",
    "        <th>Units</th>\n",
    "      </tr>\n",
    "    </thead>\n",
    "    <tbody>\n",
    "      <tr>\n",
    "        <td>Continuous</td>\n",
    "        <td>Systolic Blood Pressure (BPs)</td>\n",
    "        <td>[mmHg]</td>\n",
    "      </tr>\n",
    "      <tr>\n",
    "        <td>Continuous</td>\n",
    "        <td>Systolic Blood Pressure (BPs)</td>\n",
    "        <td>[mmHg]</td>\n",
    "      </tr>\n",
    "      <tr>\n",
    "        <td>Continuous</td>\n",
    "        <td>Body Fat</td>\n",
    "        <td>[%]</td>\n",
    "      </tr>\n",
    "      <tr>\n",
    "        <td>Discrete</td>\n",
    "        <td>Age</td>\n",
    "        <td>Years</td>\n",
    "      </tr>\n",
    "      <tr>\n",
    "        <td>Categorical</td>\n",
    "        <td>Sex</td>\n",
    "        <td>-</td>\n",
    "      </tr>\n",
    "      <tr>\n",
    "        <td>Categorical</td>\n",
    "        <td>Smoker</td>\n",
    "        <td>-</td>\n",
    "      </tr>\n",
    "    </tbody>\n",
    " </table>\n",
    "\n"
   ]
  },
  {
   "cell_type": "markdown",
   "id": "af88709c-ee5a-46e1-acb9-68cf10fcd89d",
   "metadata": {},
   "source": [
    "\n",
    "<br>\n",
    "\n",
    "### Distribution:\n",
    "\n",
    "A probability distribution is a function that describes all of the possible outcomes of a random variable along with their corresponding probability values<br>\n",
    "(Brooks-Bartless 2018). Choosing the correct distribution to fit ones data shape and data type is very important as this help to describe the dataset and will<br>\n",
    "have an impact on how your data behaves in a machine learning model. The distribution of the different variables will now be explored.\n",
    "\n",
    "<br>"
   ]
  },
  {
   "cell_type": "code",
   "execution_count": null,
   "id": "0cd2c417-596d-46ac-8261-b4ad97f9a8c3",
   "metadata": {},
   "outputs": [],
   "source": []
  },
  {
   "cell_type": "code",
   "execution_count": null,
   "id": "94297190-0687-4c8c-b474-c6e4df3ac054",
   "metadata": {},
   "outputs": [],
   "source": []
  },
  {
   "cell_type": "markdown",
   "id": "cdaa2c88-7fa3-4d09-a672-84fa4509089b",
   "metadata": {},
   "source": [
    "## Modelling Dataset\n",
    "***"
   ]
  },
  {
   "cell_type": "code",
   "execution_count": null,
   "id": "33edcacd-96a3-47ab-9a6e-6677eb11bbac",
   "metadata": {},
   "outputs": [],
   "source": []
  },
  {
   "cell_type": "code",
   "execution_count": null,
   "id": "e5b08164-1871-4a8f-ac43-1ef0bdbc5b63",
   "metadata": {},
   "outputs": [],
   "source": []
  },
  {
   "cell_type": "markdown",
   "id": "f846fdee-0803-41af-8910-8c6454e85ba0",
   "metadata": {},
   "source": [
    "## References\n",
    "***"
   ]
  },
  {
   "cell_type": "markdown",
   "id": "342bd893-a71a-48d5-84f9-cf8abd3892f9",
   "metadata": {},
   "source": [
    "[X] CDC, 2021, High Blood Pressure Symptoms and Causes, Available at:<br>\n",
    "[Ref X](https://www.cdc.gov/bloodpressure/about.htm) (Accessed 08 December 2021).<br>\n",
    "\n",
    "<br>\n",
    "\n",
    "[X]. Singh, S, 2019, Getting the Basics of Correlation & Covariance, Available at:<br>\n",
    "[Ref X](https://towardsdatascience.com/getting-the-basics-of-correlation-covariance-c8fc110b90b4) (Accessed 07 December 2021).\n",
    "\n",
    "\n",
    "<br>\n",
    "\n",
    "[X]. Justin, B, et al. (2013), Risk Models to Predict Hypertension: A Systematic Review, Plos One, Availabile at:<br>\n",
    "[Ref X](https://www.ncbi.nlm.nih.gov/pmc/articles/PMC3702558/) (Accessed 08 December 2021).\n",
    "\n",
    "<br>\n",
    "\n",
    "[X]. Glen, S, 2021, What is a C-Statistic?, Statistics How To, Available at: <br>\n",
    "[Ref X](https://www.statisticshowto.com/c-statistic/) (Accessed 09 December 2021).\n",
    "\n",
    "\n",
    "<br>\n",
    "\n",
    "[X].Papathanasiou, G et al. (2015), Association of High Blood Pressure with Body Mass Index, Smoking and Physical Activity in Healthy Young Adults,<br>\n",
    "Available at: [Ref X](https://www.ncbi.nlm.nih.gov/pmc/articles/PMC4378027/) (Accessed 13 December 2021).\n",
    "\n",
    "\n",
    "<br>\n",
    "\n",
    "[X]. Boledovičová, M et al. (2013), Blood pressure relation to body composition and age: Analysis of a nurse-led investigation and consultation program,<br>\n",
    "Available at: [Ref X](https://www.ncbi.nlm.nih.gov/pmc/articles/PMC3728227/) (Accessed 13 December 2021).\n",
    "<br>\n",
    "\n",
    "\n",
    "[X]. Brownlee, J, 2020, How to Choose a Feature Selection Method For Machine Learning, Available at:<br>\n",
    "[Ref Link X](https://machinelearningmastery.com/feature-selection-with-real-and-categorical-data/) (Accessed 13 December 2021).\n",
    "\n",
    "\n",
    "<br>\n",
    "\n",
    "[X]. Ren, Z et al (2020), A novel predicted model for hypertension based on a large cross-sectional study, Available at:<br>\n",
    "[Ref Link X](https://www.nature.com/articles/s41598-020-64980-8) (Accessed 13 December 2021).\n",
    "\n",
    "\n",
    "<br>\n",
    "\n",
    "[X]. Zeng, Q at al. (2012), Percent body fat is a better predictor of cardiovascular risk factors than body mass index, Available at:<br>\n",
    "[Ref Link X](https://www.ncbi.nlm.nih.gov/pmc/articles/PMC3854278/) (Accessed 13 December 2021)\n",
    "\n",
    "\n",
    "\n",
    "<br>\n",
    "\n",
    "[X]. Pater, C, 2005, The Blood Pressure \"Uncertainty Range\" – a pragmatic approach to overcome current diagnostic uncertainties (II), Avilabile at:<br>\n",
    "[Ref Link X](https://trialsjournal.biomedcentral.com/articles/10.1186/1468-6708-6-5) (Accessed 14 December 2021).\n",
    "\n",
    "<br>\n",
    "\n",
    "[X]. Hossian, Z, 2020, Get Familiar with the Most Powerful Weapon of Data Science Variables, Available at:<br>\n",
    "[Ref Link X:](https://towardsdatascience.com/get-familiar-with-the-most-important-weapon-of-data-science-variables-48cc7cd85dc5) (Accessed 13 December 2021).\n",
    "\n",
    "<br>\n",
    "Hossian (2020)\n",
    "\n",
    "\n",
    "<br>\n",
    "\n",
    "[X]. Brownlee, J, 2019, just a collection of parameterized probability distributions, Available at:<br>\n",
    "[Ref Link X ](https://machinelearningmastery.com/continuous-probability-distributions-for-machine-learning/) (Accessed 14 December 2021).\n",
    "\n",
    "<br>\n"
   ]
  },
  {
   "cell_type": "code",
   "execution_count": null,
   "id": "dbd6259c-7194-48d3-ae8e-407d02babe4c",
   "metadata": {},
   "outputs": [],
   "source": []
  },
  {
   "cell_type": "code",
   "execution_count": null,
   "id": "f82f4d3c-e904-4d1f-9e0c-1ac4434d8023",
   "metadata": {},
   "outputs": [],
   "source": []
  },
  {
   "cell_type": "markdown",
   "id": "49310de9-2d52-4b10-84ce-c6c0c90ac757",
   "metadata": {},
   "source": [
    "### Testing"
   ]
  },
  {
   "cell_type": "code",
   "execution_count": 2,
   "id": "ff6fe0bd-a206-43e5-bffc-cec358326d1a",
   "metadata": {},
   "outputs": [],
   "source": [
    "import matplotlib.pyplot as plt             # for plotting\n",
    "import seaborn as sns                       # for plotting\n",
    "import numpy as np                          # for numeric processing (from different distributions)\n",
    "import pandas as pd                         # to generate dataframes & manipulat data\n",
    "\n",
    "plt.rcParams['font.size'] = 13              # set default plot font size \n",
    "plt.rcParams[\"figure.figsize\"] = (10, 6)    # set default figure font size \n",
    "\n",
    "\n",
    "\n",
    "def generate_multivariate_normal(means, std_devs, corr_coeff, num_samples):\n",
    "    '''This fuction returns a multivariate normal array'''\n",
    "    # Construct new Generator using default BitGenerator(PCG64) and store in rng variable\n",
    "    rng = np.random.default_rng(100)\n",
    "    \n",
    "    variances = np.square(std_devs) \n",
    "    \n",
    "    covariance = corr_coeff * (std_devs[0] * std_devs[1]) \n",
    "    covariance_matrix = [[variances[0], covariance], [covariance, variances[1]]]    \n",
    "    array = rng.multivariate_normal(means, covariance_matrix, num_samples)\n",
    "    \n",
    "    print('variances are: {}'.format(variances))\n",
    "    print('covariances are: {}'.format(covariance))\n",
    "    print('covariance_matrix is: {}'.format(covariance_matrix))\n",
    "    return array"
   ]
  }
 ],
 "metadata": {
  "kernelspec": {
   "display_name": "Python 3",
   "language": "python",
   "name": "python3"
  },
  "language_info": {
   "codemirror_mode": {
    "name": "ipython",
    "version": 3
   },
   "file_extension": ".py",
   "mimetype": "text/x-python",
   "name": "python",
   "nbconvert_exporter": "python",
   "pygments_lexer": "ipython3",
   "version": "3.8.8"
  }
 },
 "nbformat": 4,
 "nbformat_minor": 5
}
