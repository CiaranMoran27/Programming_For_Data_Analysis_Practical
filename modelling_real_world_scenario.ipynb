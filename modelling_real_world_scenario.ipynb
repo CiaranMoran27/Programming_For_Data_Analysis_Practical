{
 "cells": [
  {
   "cell_type": "markdown",
   "id": "a51d1bd2-0369-4c0a-8f4f-0660228af1fd",
   "metadata": {},
   "source": [
    "\n",
    "<center><img src=\"images/gmit_image.jpg\" width=\"275\" height=\"275\"/></center>\n",
    "<h2 align=\"center\"><em><strong>&nbsp&nbsp&nbsp&nbsp Modelling Real World Data </h2></em></strong><br/>\n",
    "<h2 align=\"center\"><em><strong>&nbsp&nbsp&nbsp&nbsp&nbspHigher Diploma in Data Analytics  </h2></em></strong><br/>\n",
    "\n",
    "\n"
   ]
  },
  {
   "cell_type": "markdown",
   "id": "efa3e894-3308-49d3-a8bd-6b8a9cd7b86d",
   "metadata": {},
   "source": [
    "\n",
    "<br>\n",
    "<br>\n",
    "\n",
    "# Objectives\n",
    "***"
   ]
  },
  {
   "cell_type": "markdown",
   "id": "ef513ea8-9d0e-4422-921f-d0f102c83322",
   "metadata": {},
   "source": [
    "1. Choose a real-world phenomenon that can be measured.\n",
    "2. Investigate the types of variables involved, their likely distributions, and their\n",
    "relationships with each other, accross at least 4 variables.\n",
    "3. Synthesise/simulate a data set as closely matching their properties as possible."
   ]
  },
  {
   "cell_type": "code",
   "execution_count": null,
   "id": "77e2ea1c-fd18-4f2d-bd09-d056d35f820d",
   "metadata": {},
   "outputs": [],
   "source": []
  },
  {
   "cell_type": "code",
   "execution_count": null,
   "id": "f1ed769f-3b52-4ae6-9e46-11b2e2963df0",
   "metadata": {},
   "outputs": [],
   "source": []
  },
  {
   "cell_type": "markdown",
   "id": "d903a639-d963-4e6b-82d6-f2259dd6f6ad",
   "metadata": {},
   "source": [
    "## Real World Phenomenon\n",
    "***"
   ]
  },
  {
   "cell_type": "markdown",
   "id": "a67bdb85-b70d-4c3b-9802-ee82871720f1",
   "metadata": {},
   "source": [
    "### Hypertension\n",
    "This project will explore *hypertension*, which is more commonly known as high blood pressure. This real world problem can result in stroke, heart<br>\n",
    "disease and heart attacks. Blood pressure is measured using systolic blood pressure which measures the pressure in ones arteries when their heart<br>\n",
    "beats, and diastolic blood pressure which measures the pressure in ones artetries between heart beats [1]. The Centers for Disease Control and<br>\n",
    "Prevention defines hypertension as a systolic reading of ≥ 130 mmHg and/or a diastolic reading of ≥ 80 mmHg."
   ]
  },
  {
   "cell_type": "code",
   "execution_count": null,
   "id": "68baf016-b47f-420f-b10a-a52efed0d3f1",
   "metadata": {},
   "outputs": [],
   "source": []
  },
  {
   "cell_type": "code",
   "execution_count": null,
   "id": "fab1bb90-164a-487c-a970-abbcb087c910",
   "metadata": {},
   "outputs": [],
   "source": []
  },
  {
   "cell_type": "markdown",
   "id": "ce303309-d8a6-4f76-b1cb-96057d9798a1",
   "metadata": {},
   "source": [
    "\n",
    "<br>\n",
    "\n",
    "## Investigating the Variables\n",
    "***\n",
    "### Selection:\n",
    "Justin et al.(2013) detail how 467 abstracts related to hypertension were closely examined and how 11 articles of 467 were indentified that explored<br>\n",
    "linear regression prediction models with incident hypertension as their outcome of interest. The results of these articles showed  that the best predictor<br>\n",
    "variables for hypertension were age, sex, body mass index, diabetes status, parental hypertension, smoking and systolic/diastolic blood pressure. \n",
    "\n",
    "The variables described in table 1 will be selected to model a hypertension dataset and the variable types are also declared, these will play an imortant <br>\n",
    "partin modelling the data.\n",
    "\n",
    "\n"
   ]
  },
  {
   "cell_type": "markdown",
   "id": "3ffdd28c-6f3b-4f1b-acd9-29a12936317f",
   "metadata": {},
   "source": [
    "\n",
    "<br>\n",
    "\n",
    "<table style = 'float : left;'>\n",
    "<tr><th>Table 1: Variable Summary</th>\n",
    "<tr><td>\n",
    "\n",
    "|Variable Type| Variable |Units|\n",
    "|:--:|:--:|:--:|\n",
    "|Continuous|Systolic Blood Pressure (BPs) |[mmHg]|\n",
    "|Continuous|Diastolic Blood Pressure (BPd)|[mmHg]|\n",
    "|Continuous|BMI|[kg/m²]|\n",
    "|Discrete|Age|Years|\n",
    "|Categorical|Sex |-|\n",
    "|Categorical|Smoker|-|\n",
    "\n",
    "</td></tr> </table>"
   ]
  },
  {
   "cell_type": "code",
   "execution_count": null,
   "id": "57ff8279-f0d3-4a80-b89f-bef0711484b7",
   "metadata": {},
   "outputs": [],
   "source": []
  },
  {
   "cell_type": "markdown",
   "id": "cdaa2c88-7fa3-4d09-a672-84fa4509089b",
   "metadata": {},
   "source": [
    "## Modelling Dataset\n",
    "***"
   ]
  },
  {
   "cell_type": "code",
   "execution_count": null,
   "id": "33edcacd-96a3-47ab-9a6e-6677eb11bbac",
   "metadata": {},
   "outputs": [],
   "source": []
  },
  {
   "cell_type": "code",
   "execution_count": null,
   "id": "e5b08164-1871-4a8f-ac43-1ef0bdbc5b63",
   "metadata": {},
   "outputs": [],
   "source": []
  },
  {
   "cell_type": "markdown",
   "id": "f846fdee-0803-41af-8910-8c6454e85ba0",
   "metadata": {},
   "source": [
    "## References\n",
    "***"
   ]
  },
  {
   "cell_type": "code",
   "execution_count": null,
   "id": "4f15cdf2-e84a-46c8-8b7c-8f5d9e6c6285",
   "metadata": {},
   "outputs": [],
   "source": []
  },
  {
   "cell_type": "code",
   "execution_count": null,
   "id": "dbd6259c-7194-48d3-ae8e-407d02babe4c",
   "metadata": {},
   "outputs": [],
   "source": []
  },
  {
   "cell_type": "code",
   "execution_count": null,
   "id": "f82f4d3c-e904-4d1f-9e0c-1ac4434d8023",
   "metadata": {},
   "outputs": [],
   "source": []
  },
  {
   "cell_type": "markdown",
   "id": "49310de9-2d52-4b10-84ce-c6c0c90ac757",
   "metadata": {},
   "source": [
    "### Testing"
   ]
  },
  {
   "cell_type": "code",
   "execution_count": 2,
   "id": "ff6fe0bd-a206-43e5-bffc-cec358326d1a",
   "metadata": {},
   "outputs": [],
   "source": [
    "import matplotlib.pyplot as plt             # for plotting\n",
    "import seaborn as sns                       # for plotting\n",
    "import numpy as np                          # for numeric processing (from different distributions)\n",
    "import pandas as pd                         # to generate dataframes & manipulat data\n",
    "\n",
    "plt.rcParams['font.size'] = 13              # set default plot font size \n",
    "plt.rcParams[\"figure.figsize\"] = (10, 6)    # set default figure font size \n",
    "\n",
    "\n",
    "\n",
    "def generate_multivariate_normal(means, std_devs, corr_coeff, num_samples):\n",
    "    '''This fuction returns a multivariate normal array'''\n",
    "    # Construct new Generator using default BitGenerator(PCG64) and store in rng variable\n",
    "    rng = np.random.default_rng(100)\n",
    "    \n",
    "    variances = np.square(std_devs) \n",
    "    \n",
    "    covariance = corr_coeff * (std_devs[0] * std_devs[1]) \n",
    "    covariance_matrix = [[variances[0], covariance], [covariance, variances[1]]]    \n",
    "    array = rng.multivariate_normal(means, covariance_matrix, num_samples)\n",
    "    \n",
    "    print('variances are: {}'.format(variances))\n",
    "    print('covariances are: {}'.format(covariance))\n",
    "    print('covariance_matrix is: {}'.format(covariance_matrix))\n",
    "    return array"
   ]
  }
 ],
 "metadata": {
  "kernelspec": {
   "display_name": "Python 3",
   "language": "python",
   "name": "python3"
  },
  "language_info": {
   "codemirror_mode": {
    "name": "ipython",
    "version": 3
   },
   "file_extension": ".py",
   "mimetype": "text/x-python",
   "name": "python",
   "nbconvert_exporter": "python",
   "pygments_lexer": "ipython3",
   "version": "3.8.8"
  }
 },
 "nbformat": 4,
 "nbformat_minor": 5
}
