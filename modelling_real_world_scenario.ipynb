{
 "cells": [
  {
   "cell_type": "markdown",
   "id": "a51d1bd2-0369-4c0a-8f4f-0660228af1fd",
   "metadata": {},
   "source": [
    "\n",
    "<center><img src=\"images/gmit_image.jpg\" width=\"275\" height=\"275\"/></center>\n",
    "<h2 align=\"center\"><em><strong>&nbsp&nbsp&nbsp&nbsp Modelling Real World Data </h2></em></strong><br/>\n",
    "<h2 align=\"center\"><em><strong>&nbsp&nbsp&nbsp&nbsp&nbspHigher Diploma in Data Analytics  </h2></em></strong><br/>\n",
    "\n",
    "\n"
   ]
  },
  {
   "cell_type": "markdown",
   "id": "efa3e894-3308-49d3-a8bd-6b8a9cd7b86d",
   "metadata": {},
   "source": [
    "\n",
    "<br>\n",
    "<br>\n",
    "\n",
    "# Objectives\n",
    "***"
   ]
  },
  {
   "cell_type": "markdown",
   "id": "ef513ea8-9d0e-4422-921f-d0f102c83322",
   "metadata": {},
   "source": [
    "1. Choose a real-world phenomenon that can be measured.\n",
    "2. Investigate the types of variables involved, their likely distributions, and their\n",
    "relationships with each other, accross at least 4 variables.\n",
    "3. Synthesise/simulate a data set as closely matching their properties as possible."
   ]
  },
  {
   "cell_type": "code",
   "execution_count": null,
   "id": "77e2ea1c-fd18-4f2d-bd09-d056d35f820d",
   "metadata": {},
   "outputs": [],
   "source": []
  },
  {
   "cell_type": "code",
   "execution_count": null,
   "id": "f1ed769f-3b52-4ae6-9e46-11b2e2963df0",
   "metadata": {},
   "outputs": [],
   "source": []
  },
  {
   "cell_type": "markdown",
   "id": "d903a639-d963-4e6b-82d6-f2259dd6f6ad",
   "metadata": {},
   "source": [
    "## Real World Phenomenon\n",
    "***"
   ]
  },
  {
   "cell_type": "markdown",
   "id": "a67bdb85-b70d-4c3b-9802-ee82871720f1",
   "metadata": {},
   "source": [
    "### Hypertension\n",
    "This project will explore *hypertension*, which is more commonly known as high blood pressure. This real world problem can result in stroke, heart<br>\n",
    "disease and heart attacks. Blood pressure is measured using systolic blood pressure which measures the pressure in ones arteries when their heart<br>\n",
    "beats, and diastolic blood pressure which measures the pressure in ones artetries between heart beats [1]. The Centers for Disease Control and<br>\n",
    "Prevention defines hypertension as a systolic reading of ≥ 130 mmHg and/or a diastolic reading of ≥ 80 mmHg."
   ]
  },
  {
   "cell_type": "code",
   "execution_count": null,
   "id": "68baf016-b47f-420f-b10a-a52efed0d3f1",
   "metadata": {},
   "outputs": [],
   "source": []
  },
  {
   "cell_type": "code",
   "execution_count": null,
   "id": "fab1bb90-164a-487c-a970-abbcb087c910",
   "metadata": {},
   "outputs": [],
   "source": []
  },
  {
   "cell_type": "markdown",
   "id": "ce303309-d8a6-4f76-b1cb-96057d9798a1",
   "metadata": {},
   "source": [
    "<br>\n",
    "\n",
    "## Investigating the Variables\n",
    "***\n",
    "### Selection:\n",
    "It is important to investigate relevant features when modeling ones data. For example in Machine Learning feature selection methods are used to<br>\n",
    "reduce the number of input variables to useful ones that can make better predictions (Brownlee 2020). With this in mind some of the feature variables<br> \n",
    "that help predict hypertension will now be investigated before deciding what variables will be used  to model the real world phenomenon of hypertension.\n",
    "\n",
    "Justin et al.(2013) detail how 467 abstracts related to hypertension were closely examined and how 11 articles of 467 were indentified that explored<br>\n",
    "linear regression prediction models with incident hypertension as their outcome of interest. The results of these article showed that the following<br>\n",
    "variables showed success in prediciting hypertension over a diverse age range: age, sex, body mass index, diabetes status, parental hypertension<br>\n",
    "smoking and systolic/diastolic blood pressure. \n",
    "\n",
    "Further research identified a large scale study that was carried out by Ren et al (2020) on 68980 Chinese participants over a dynamic age range.<br>\n",
    "Within the study sample circa 50% of the people had hypertension and risk factor were identified via random forest and linear regression models.<br>\n",
    "The main risk factors identified were gender, age, height, weight, BMI, triglyceride levels and total cholesterol. <br>"
   ]
  },
  {
   "cell_type": "markdown",
   "id": "7d342fc4-89b0-470a-b676-215385845a41",
   "metadata": {},
   "source": [
    "It was interesting that BMI was positively prediciting blood pressure as it doesnt account for body fat percentage. Zeng at al. (2012) explored this in more<br>\n",
    "detail on a sample size of 3559 subjects from 18 to 85 years old. The study used Pearsons Correlation analysis to model BMI, percent body fat and blood<br>\n",
    "pressure before correcting for gender, age, lifestyle, and family history correlation via regression analysis. The results showed that BMI had a lower partial<br>\n",
    "correlation with blood pressure than fat percenrage had with with blood pressure. Based on these findings percentage body fat will be included with the<br>\n",
    "variables listed in table 1 to model hypertension."
   ]
  },
  {
   "cell_type": "markdown",
   "id": "3ffdd28c-6f3b-4f1b-acd9-29a12936317f",
   "metadata": {},
   "source": [
    "\n",
    "<table style = 'float : left;'>\n",
    "    <thead>\n",
    "        <th></th>\n",
    "        <th>Table1 (Variable Summary)</th>\n",
    "        <th></th>\n",
    "      </tr>\n",
    "      <tr>\n",
    "        <th>Variable Type</th>\n",
    "        <th>Variable</th>\n",
    "        <th>Units</th>\n",
    "      </tr>\n",
    "    </thead>\n",
    "    <tbody>\n",
    "      <tr>\n",
    "        <td>Continuous</td>\n",
    "        <td>Systolic Blood Pressure (BPs)</td>\n",
    "        <td>[mmHg]</td>\n",
    "      </tr>\n",
    "      <tr>\n",
    "        <td>Continuous</td>\n",
    "        <td>Systolic Blood Pressure (BPs)</td>\n",
    "        <td>[mmHg]</td>\n",
    "      </tr>\n",
    "      <tr>\n",
    "        <td>Continuous</td>\n",
    "        <td>Body Fat</td>\n",
    "        <td>[%]</td>\n",
    "      </tr>\n",
    "      <tr>\n",
    "        <td>Discrete</td>\n",
    "        <td>Age</td>\n",
    "        <td>Years</td>\n",
    "      </tr>\n",
    "      <tr>\n",
    "        <td>Categorical</td>\n",
    "        <td>Sex</td>\n",
    "        <td>-</td>\n",
    "      </tr>\n",
    "      <tr>\n",
    "        <td>Categorical</td>\n",
    "        <td>Smoker</td>\n",
    "        <td>-</td>\n",
    "      </tr>\n",
    "    </tbody>\n",
    " </table>\n",
    "\n"
   ]
  },
  {
   "cell_type": "markdown",
   "id": "af88709c-ee5a-46e1-acb9-68cf10fcd89d",
   "metadata": {},
   "source": [
    "\n",
    "<br>\n",
    "\n",
    "### Distribution:\n",
    "\n",
    "A probability distribution is a function that describes all of the possible outcomes of a random variable along with their corresponding probability values<br>\n",
    "(Brooks-Bartless 2018). Choosing the correct distribution to fit ones data shape and data type is very important as this help to describe the dataset and will<br>\n",
    "have an impact on how your data behaves in a machine learning model. The distribution of the different variables will now be explored.\n"
   ]
  },
  {
   "cell_type": "markdown",
   "id": "a5b02e13-013d-4ee0-b32a-ae631312b3ea",
   "metadata": {},
   "source": [
    "\n",
    "#### 1. Systolic and  2. Diastolic Blood Pressure\n",
    "Pater (2005) details how both systolic and diastolic blood pressure belong to simplified, theoeretical normal distribution. He then details the underlying<br>\n",
    "distirbutions for both systolic and diastolic blood pressure as two overlaping bell curve shaped distributions, one for the people without hypertension and<br>\n",
    "one for those with hypertension (see [here](https://trialsjournal.biomedcentral.com/articles/10.1186/1468-6708-6-5/figures/4)). He deduces that this combination tends to overlap and result in a somewhat normal distribution shape when the <br>population sampled from contains a mix of each health status. The overlap is less prominent in systolic blood pressure which results in a slightly right skewed<br>\n",
    "distribution caused by a correlation between increasing age with increasing systolic blood pressure. \n",
    "\n",
    "\n"
   ]
  },
  {
   "cell_type": "markdown",
   "id": "bd1d9daf-3260-461f-9f91-9834e44e687a",
   "metadata": {},
   "source": [
    "#### 3. BMI Body \n",
    "Penman et al.(2015) details a study caried out by Penman detailing the changing distribution of BMI in Mississippi's adults. The study ranged from 1990 to<br>\n",
    "2003 with sample sizes varying from l,578 to a 4,422 samples per annum. He argued that, despite popular view, it had not been clearly proven that BMI follows<br>\n",
    "the normal distribution. The study results yielded more of a log normal or right skewed distirbution, with the skew increasing overtime. The histogram of the 2003<br>\n",
    "data shows a mean of 27.7 kg/m² and standard deviation of 6.1 (see [here](https://www.ncbi.nlm.nih.gov/pmc/articles/PMC1636707/), Figure 2).\n",
    "\n",
    "#### 4. Fat Percentage\n",
    "With regards to body fat percentage, a very interesting study took place in China with 5763 participants with an average age of 52 years[Zou (2015)]. Importantly<br>\n",
    "they study had nearly a 50:50 split between overweight and underweight samples. The study showed a normal distribution for both males and females across the<br>\n",
    "underweight, overweight and obese categories (see distributions [here](https://bmcpublichealth.biomedcentral.com/articles/10.1186/s12889-020-08832-0/figures/1)). The mean total body fat % (all categories lumped into one) was shown to be 25% and 35% <br>for men and woman respectively. \n"
   ]
  },
  {
   "cell_type": "markdown",
   "id": "afeb6505-c058-412f-ab99-1ebd4844de01",
   "metadata": {},
   "source": [
    "#### 5. Age\n",
    "The central statistics office in Ireland carried out an age profile in a 2016 Cencus. They showed the age distirbution of males and females accross the country<br>\n",
    "(see [here](https://www.cso.ie/en/releasesandpublications/ep/p-cp3oy/cp3/assr/), Figure 1.4). On analysis of the population pyramid it becomes clear that age distribution fluctuates accross the age range, but appears somewhat symmetric<br>between male and females for the given year. Sampling on a large very scale from such a distribution could yield a variety of outcomes. However if one sampled from a<br>\n",
    "known age range it would be easier to predict the eventual distribution. Interestingly at the 35 year mark one can see somewhat of a bell curve shape appearing in the<br>\n",
    "discrete data. Any smaller scale samples obviously would be much harder to predict based on population pyramid and would depend more on the population pyramid<br>\n",
    "relvant to geographic sampling location."
   ]
  },
  {
   "cell_type": "markdown",
   "id": "fe7e7e0d-2f2a-4e48-a7e9-2ac8341bf87c",
   "metadata": {},
   "source": [
    "\n",
    "#### 6. Smoking\n",
    "A large study took place from 1989 to 2011 in China on 12900 particapents with all subjects being more than 18 years of age [Yao et al. (2020)]. This study will be<br>\n",
    "leveraged further on to help model the distribution of smokers accross hypersensitive and non-hypersensitive people. The following breakdown was reported:\n",
    "- 7369 people were non-smokers (60 %)\n",
    "    - 2243 were hypersensitive\n",
    "    - 5126 were not hypersensitive \n",
    "- 4913 people were smokers (40 %)\n",
    "    - 2029 were hypersensitive\n",
    "    - 2884 were not hypersensitive\n"
   ]
  },
  {
   "cell_type": "markdown",
   "id": "0bb5a26e-16f9-447c-8b27-2ed9133acc53",
   "metadata": {},
   "source": [
    "\n",
    "<br>\n",
    "\n",
    "### Tending Towards Normality\n",
    "#### Description\n",
    "This normal distribution is continuous distribution that has one one local maximum in the centre (mean) where the distribution spreads symmetrically from this mode<br>\n",
    "(calculated via standard deviation). See Figure 1 below for exploration of how the standard normal distribution changes with different mean and std dev values. The<br>\n",
    "Standard Normal Distribution has defined data spread whereby:<br>\n",
    "- 68.3 % of data falls withing one std devs of the mean.<br>\n",
    "- 99.7 % of data falls withing three std devs of the mean.<br>"
   ]
  },
  {
   "cell_type": "code",
   "execution_count": 1,
   "id": "7a067e1d-31e3-4755-95ef-72e149a6d678",
   "metadata": {},
   "outputs": [],
   "source": [
    "# import libraries\n",
    "%matplotlib inline                      \n",
    "import numpy as np                          # for numerical operations\n",
    "import pandas as pd                         # for manipulating data arrays \n",
    "import statistics                           # to perfom stats on arrays\n",
    "import matplotlib.pyplot as plt             # for plotting\n",
    "import seaborn as sns                       # for plotting\n",
    "from scipy.stats import norm"
   ]
  },
  {
   "cell_type": "code",
   "execution_count": 2,
   "id": "c25df337-fc20-47b2-9703-716092e43218",
   "metadata": {},
   "outputs": [
    {
     "data": {
      "image/png": "[encoded data removed]",
      "text/plain": [
       "<Figure size 864x432 with 1 Axes>"
      ]
     },
     "metadata": {
      "needs_background": "light"
     },
     "output_type": "display_data"
    }
   ],
   "source": [
    "# generate array from -6 to 6 with 1000 increments\n",
    "x = np.linspace(-6, 6, 1000)\n",
    "\n",
    "def plot_normal_distribution(mean, std_dev, color, label_text):   \n",
    "    '''This function uses probability density function to plot custom normal distributions'''\n",
    "    ax.fill(x, norm.pdf(x, mean, std_dev), label = label_text, alpha = 0.7)\n",
    "    return\n",
    "\n",
    "Fig, ax = plt.subplots(figsize = (12, 6))\n",
    "plt.figtext(0.5, 0.0, 'Figure 1', wrap = True, horizontalalignment = 'center', fontsize = 15)\n",
    "ax.set_title('Normal Distribution')\n",
    "\n",
    "# function calls for different mean and std dev values\n",
    "plot_normal_distribution(mean = 0, std_dev = 1, color = 'b', label_text = 'μ = 0, σ = 1')\n",
    "plot_normal_distribution(mean = 2, std_dev = 1, color = 'g', label_text = 'μ = 2, σ = 1')\n",
    "plot_normal_distribution(mean = 0, std_dev = 2, color = 'r', label_text = 'μ = 0, σ = 2')\n",
    "plot_normal_distribution(mean = -1, std_dev = 0.6, color = 'y', label_text = 'μ = -1, σ = 0.6')\n",
    "plt.legend()\n",
    "plt.show()"
   ]
  },
  {
   "cell_type": "markdown",
   "id": "d06717fb-30fb-475b-93fa-13800b7bd508",
   "metadata": {},
   "source": [
    "#### Bias\n",
    "This distribution occurs in many real world phenomena such as age, height, test-scores, IQ scores, men's height etc. Sharama (2019) helps explain this by describing how<br>\n",
    "larger data sets with finite variances and independent feature probabilities will have a data distribution that favours the bell curve shape. Charan (2020) then details<br>\n",
    "how a popluations with mean μ and standard deviation σ will tend towards a normal distribution with a sufficient sample size, i.e the Central Limit Theorem. <br>"
   ]
  },
  {
   "cell_type": "markdown",
   "id": "2bb31cfa-59ac-412f-aa3d-213873140792",
   "metadata": {},
   "source": [
    "#### Importance \n",
    "The normal distribution is considered one of the most important of the probability distributions in statistics. Malif (2019) explores how its simple symmetric shape<br>\n",
    "makes it easy to estimate the probability of certain events occuring via the normal probability density function, whereby the area under the curve represents the full<br>\n",
    "probability range and equals to one. Many machine learning models including LDA, Guassian Naive Bayes, Logistic Regression and Linear Regression benifit from normalised<br>\n",
    "data and are calculated assuming that the distribution is bivariate / multivariate normal [Barai 2020]. When dealing with such models cases arise where the target variables<br>\n",
    "are not normally distributed and have to be transformed using methods such as linear , Boxcox or eo-Johnson Transformations [Malif (2019)]. "
   ]
  },
  {
   "cell_type": "markdown",
   "id": "435476a5-b2f4-4d3c-9972-a244791fd3f6",
   "metadata": {},
   "source": [
    "\n",
    "<br>\n",
    "\n",
    "\n",
    "#### Variable Statistic Alligment\n",
    "#### Boledovičová et al.(2013)\n",
    "Research up to this point has been taken from different sources. For allignment and modelling purposes the numerical hypertension variables from Table 1 will now<br>\n",
    "be explored from a single study. Boledovičová et al.(2013) carried out a study on 120 men and 276 woman in Slovakia, where systolic and diastolic blood pressure<br>\n",
    "readings were compared against age, BMI, weight and fat percentage. The study performed provided mean and standard deviation data on all variables (see table 2) and<br>\n",
    "performed Pearson’s correlation analysis betweenthe variables (discussed more later). Importantly the study mentioned that normality was confirmed accross all variables,<br>\n",
    "which mostly alligns with previous findings in distribution research above. Any exceptions will now be further explored.\n",
    "<br>"
   ]
  },
  {
   "cell_type": "markdown",
   "id": "d29b1d54-a68e-4b31-b6f8-f48cfea86226",
   "metadata": {},
   "source": [
    "- *Systolic Blood Pressure:*<br>\n",
    "The reporting of normality for systolic blood prssure data by Boledovičová et al.(2013) will now be compared to reports from Pater (2005) research that systolic blood<br>\n",
    "has a slight right leaning skew. To model the comparison a skewed distirbution (Fig1, subplot1) was plotted with a skew of 0.2 (skew reference in code) vs a normal<br>\n",
    "distirbution (Fig1, subplot2). The difference in normality between the distributions does not appear significant at this value. Dan 2020 re-affirms this as he detailed<br>\n",
    "how a skew value between -0.5 and 0.5 is considered symmetrical. An additional model (subplot3) was ran, whereby the code used to generate subplot2 skewed<br>\n",
    "distribution was ran 10000 times and the skew range plotted. As shown the skew distribution ranges from cira -0.2 to 0.6, with a 0.66 % change of the value being<br>\n",
    "larger than 0.5 (see subplot 3 title). Moving forward nromality will be assumed when modelling systolic blood pressure.\n",
    "\n",
    "- *Age:*<br>\n",
    "Although the study reported that age was correctly described via a normal distirbution, it is more likely that the data was collected as discrete integer data and when<br>\n",
    "plotted resembled the guassian bell curve shape. This assumption will be used moving forward when modelling the data.\n"
   ]
  },
  {
   "cell_type": "markdown",
   "id": "18f70768-0261-468e-8288-c3e047c5a94e",
   "metadata": {},
   "source": [
    "\n",
    "<br>\n",
    "<table style = 'float : left;'>\n",
    "    <caption>Table 3 [X]: Distribution Statistics</caption>\n",
    "     <thead>      \n",
    "      <tr>\n",
    "        <th></th>\n",
    "        <th>Male</th>\n",
    "        <th>Male</th>\n",
    "        <th>Female</th>\n",
    "        <th>Female</th>  \n",
    "      </tr>\n",
    "    </thead>    \n",
    "    <thead>      \n",
    "      <tr>\n",
    "        <th>Variable</th>\n",
    "        <th>Mean</th>\n",
    "        <th>Std Dev</th>\n",
    "        <th>Mean</th>\n",
    "        <th>Std Dev</th>  \n",
    "      </tr>\n",
    "    </thead>\n",
    "    <tbody>\n",
    "      <tr>\n",
    "        <td>BPs [mmHg]</td>\n",
    "        <td>133.1</td>\n",
    "        <td>17.0</td>\n",
    "        <td>127.7</td>\n",
    "        <td>17.5</td>\n",
    "      </tr>\n",
    "   \n",
    "      <tr>\n",
    "        <td>BPd [mmHg]</td>\n",
    "        <td>82.5</td>\n",
    "        <td>11.6</td>\n",
    "        <td>78.5</td>\n",
    "        <td>10.6</td>\n",
    "      </tr>\n",
    "      <tr>\n",
    "        <td>Body Fat %</td>\n",
    "        <td>23.3</td>\n",
    "        <td>7.0</td>\n",
    "        <td>29.4</td>\n",
    "        <td>8.3</td>\n",
    "      </tr>\n",
    "      <tr>\n",
    "        <td>BMI [kg/m²]</td>\n",
    "        <td>26.8</td>\n",
    "        <td>3.9</td>\n",
    "        <td>24.8</td>\n",
    "        <td>4.6</td>\n",
    "      </tr>\n",
    "      <tr>\n",
    "        <td>Age</td>\n",
    "        <td>46.1</td>\n",
    "        <td>16.6</td>\n",
    "        <td>45.4</td>\n",
    "        <td>15.4</td>\n",
    "      </tr>\n",
    "    </tbody>\n",
    " </table>\n",
    "\n"
   ]
  },
  {
   "cell_type": "markdown",
   "id": "cdaa2c88-7fa3-4d09-a672-84fa4509089b",
   "metadata": {},
   "source": [
    "## Modelling Dataset\n",
    "***"
   ]
  },
  {
   "cell_type": "code",
   "execution_count": null,
   "id": "33edcacd-96a3-47ab-9a6e-6677eb11bbac",
   "metadata": {},
   "outputs": [],
   "source": []
  },
  {
   "cell_type": "code",
   "execution_count": null,
   "id": "e5b08164-1871-4a8f-ac43-1ef0bdbc5b63",
   "metadata": {},
   "outputs": [],
   "source": []
  },
  {
   "cell_type": "markdown",
   "id": "f846fdee-0803-41af-8910-8c6454e85ba0",
   "metadata": {},
   "source": [
    "## References\n",
    "***"
   ]
  },
  {
   "cell_type": "markdown",
   "id": "342bd893-a71a-48d5-84f9-cf8abd3892f9",
   "metadata": {},
   "source": [
    "[X] CDC, 2021, High Blood Pressure Symptoms and Causes, Available at:<br>\n",
    "[Ref X](https://www.cdc.gov/bloodpressure/about.htm) (Accessed 08 December 2021).<br>\n",
    "\n",
    "<br>\n",
    "\n",
    "[X]. Singh, S, 2019, Getting the Basics of Correlation & Covariance, Available at:<br>\n",
    "[Ref X](https://towardsdatascience.com/getting-the-basics-of-correlation-covariance-c8fc110b90b4) (Accessed 07 December 2021).\n",
    "\n",
    "\n",
    "<br>\n",
    "\n",
    "[X]. Justin, B, et al. (2013), Risk Models to Predict Hypertension: A Systematic Review, Plos One, Availabile at:<br>\n",
    "[Ref X](https://www.ncbi.nlm.nih.gov/pmc/articles/PMC3702558/) (Accessed 08 December 2021).\n",
    "\n",
    "<br>\n",
    "\n",
    "[X]. Glen, S, 2021, What is a C-Statistic?, Statistics How To, Available at: <br>\n",
    "[Ref X](https://www.statisticshowto.com/c-statistic/) (Accessed 09 December 2021).\n",
    "\n",
    "\n",
    "<br>\n",
    "\n",
    "[X].Papathanasiou, G et al. (2015), Association of High Blood Pressure with Body Mass Index, Smoking and Physical Activity in Healthy Young Adults,<br>\n",
    "Available at: [Ref X](https://www.ncbi.nlm.nih.gov/pmc/articles/PMC4378027/) (Accessed 13 December 2021).\n",
    "\n",
    "\n",
    "<br>\n",
    "\n",
    "[X]. Boledovičová, M et al. (2013), Blood pressure relation to body composition and age: Analysis of a nurse-led investigation and consultation program,<br>\n",
    "Available at: [Ref X](https://www.ncbi.nlm.nih.gov/pmc/articles/PMC3728227/) (Accessed 13 December 2021).\n",
    "<br>\n",
    "\n",
    "\n",
    "[X]. Brownlee, J, 2020, How to Choose a Feature Selection Method For Machine Learning, Available at:<br>\n",
    "[Ref Link X](https://machinelearningmastery.com/feature-selection-with-real-and-categorical-data/) (Accessed 13 December 2021).\n",
    "\n",
    "\n",
    "<br>\n",
    "\n",
    "[X]. Ren, Z et al (2020), A novel predicted model for hypertension based on a large cross-sectional study, Available at:<br>\n",
    "[Ref Link X](https://www.nature.com/articles/s41598-020-64980-8) (Accessed 13 December 2021).\n",
    "\n",
    "\n",
    "<br>\n",
    "\n",
    "[X]. Zeng, Q at al. (2012), Percent body fat is a better predictor of cardiovascular risk factors than body mass index, Available at:<br>\n",
    "[Ref Link X](https://www.ncbi.nlm.nih.gov/pmc/articles/PMC3854278/) (Accessed 13 December 2021)\n",
    "\n",
    "\n",
    "\n",
    "<br>\n",
    "\n",
    "[X]. Pater, C, 2005, The Blood Pressure \"Uncertainty Range\" – a pragmatic approach to overcome current diagnostic uncertainties (II), Avilabile at:<br>\n",
    "[Ref Link X](https://trialsjournal.biomedcentral.com/articles/10.1186/1468-6708-6-5) (Accessed 14 December 2021).\n",
    "\n",
    "<br>\n",
    "\n",
    "[X]. Hossian, Z, 2020, Get Familiar with the Most Powerful Weapon of Data Science Variables, Available at:<br>\n",
    "[Ref Link X:](https://towardsdatascience.com/get-familiar-with-the-most-important-weapon-of-data-science-variables-48cc7cd85dc5) (Accessed 13 December 2021).\n",
    "\n",
    "<br>\n",
    "Hossian (2020)\n",
    "\n",
    "\n",
    "<br>\n",
    "\n",
    "[X]. Brownlee, J, 2019, just a collection of parameterized probability distributions, Available at:<br>\n",
    "[Ref Link X ](https://machinelearningmastery.com/continuous-probability-distributions-for-machine-learning/) (Accessed 14 December 2021).\n",
    "\n",
    "<br>\n"
   ]
  },
  {
   "cell_type": "code",
   "execution_count": null,
   "id": "dbd6259c-7194-48d3-ae8e-407d02babe4c",
   "metadata": {},
   "outputs": [],
   "source": []
  },
  {
   "cell_type": "code",
   "execution_count": null,
   "id": "f82f4d3c-e904-4d1f-9e0c-1ac4434d8023",
   "metadata": {},
   "outputs": [],
   "source": []
  },
  {
   "cell_type": "markdown",
   "id": "49310de9-2d52-4b10-84ce-c6c0c90ac757",
   "metadata": {},
   "source": [
    "### Testing"
   ]
  },
  {
   "cell_type": "code",
   "execution_count": 2,
   "id": "ff6fe0bd-a206-43e5-bffc-cec358326d1a",
   "metadata": {},
   "outputs": [],
   "source": [
    "import matplotlib.pyplot as plt             # for plotting\n",
    "import seaborn as sns                       # for plotting\n",
    "import numpy as np                          # for numeric processing (from different distributions)\n",
    "import pandas as pd                         # to generate dataframes & manipulat data\n",
    "\n",
    "plt.rcParams['font.size'] = 13              # set default plot font size \n",
    "plt.rcParams[\"figure.figsize\"] = (10, 6)    # set default figure font size \n",
    "\n",
    "\n",
    "\n",
    "def generate_multivariate_normal(means, std_devs, corr_coeff, num_samples):\n",
    "    '''This fuction returns a multivariate normal array'''\n",
    "    # Construct new Generator using default BitGenerator(PCG64) and store in rng variable\n",
    "    rng = np.random.default_rng(100)\n",
    "    \n",
    "    variances = np.square(std_devs) \n",
    "    \n",
    "    covariance = corr_coeff * (std_devs[0] * std_devs[1]) \n",
    "    covariance_matrix = [[variances[0], covariance], [covariance, variances[1]]]    \n",
    "    array = rng.multivariate_normal(means, covariance_matrix, num_samples)\n",
    "    \n",
    "    print('variances are: {}'.format(variances))\n",
    "    print('covariances are: {}'.format(covariance))\n",
    "    print('covariance_matrix is: {}'.format(covariance_matrix))\n",
    "    return array"
   ]
  }
 ],
 "metadata": {
  "kernelspec": {
   "display_name": "Python 3",
   "language": "python",
   "name": "python3"
  },
  "language_info": {
   "codemirror_mode": {
    "name": "ipython",
    "version": 3
   },
   "file_extension": ".py",
   "mimetype": "text/x-python",
   "name": "python",
   "nbconvert_exporter": "python",
   "pygments_lexer": "ipython3",
   "version": "3.8.8"
  }
 },
 "nbformat": 4,
 "nbformat_minor": 5
}
